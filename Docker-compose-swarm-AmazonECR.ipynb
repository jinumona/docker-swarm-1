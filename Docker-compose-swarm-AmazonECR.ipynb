{
 "cells": [
  {
   "cell_type": "markdown",
   "id": "30dcf301",
   "metadata": {},
   "source": [
    "### docker-compose installation"
   ]
  },
  {
   "cell_type": "code",
   "execution_count": null,
   "id": "168d7070",
   "metadata": {},
   "outputs": [],
   "source": [
    "$ curl -SL https://github.com/docker/compose/releases/download/v2.6.0/docker-compose-linux-x86_64 -o /usr/bin/docker-compose"
   ]
  },
  {
   "cell_type": "code",
   "execution_count": null,
   "id": "041aad93",
   "metadata": {},
   "outputs": [],
   "source": [
    "$ chmod +x /usr/bin/docker-compose\n",
    "\n",
    "$ docker-compose version\n",
    "Docker Compose version v2.6.0\n",
    "\n",
    "\n",
    "$ file /usr/bin/docker-compose\n",
    "/usr/bin/docker-compose: ELF 64-bit LSB executable, x86-64, version 1 (SYSV), statically linked, stripped"
   ]
  },
  {
   "cell_type": "markdown",
   "id": "272e3805",
   "metadata": {},
   "source": [
    "### docker-compose three tier geolocation deployment"
   ]
  },
  {
   "cell_type": "code",
   "execution_count": null,
   "id": "bb8b0b7f",
   "metadata": {},
   "outputs": [],
   "source": [
    "$ mkdir myapp\n",
    "\n",
    "$ touch docker-compose.yml"
   ]
  },
  {
   "cell_type": "code",
   "execution_count": null,
   "id": "33bb7b93",
   "metadata": {},
   "outputs": [],
   "source": [
    "$ vim docker-compose.yml\n",
    "\n",
    "services:\n",
    "  \n",
    "  redis:\n",
    "    \n",
    "    image: redis:latest\n",
    "    container_name: redis\n",
    "    restart: always\n",
    "    networks:\n",
    "      - geolocation-net\n",
    "\n",
    "\n",
    "  backend:\n",
    "    \n",
    "    image: jinumona/ipgeolocation-api-redis:v2\n",
    "    container_name: geolocation-api\n",
    "    restart: always\n",
    "    networks:\n",
    "      - geolocation-net\n",
    "    ports:\n",
    "      - \"81:8080\"\n",
    "    environment:\n",
    "      - REDIS_PORT=6379\n",
    "      - REDIS_HOST=redis\n",
    "      - APP_PORT=8080\n",
    "      - API_KEY=6a77a7aac63e4ed69a78f5d6c8cbe0f4\n",
    "\n",
    "  frontend:\n",
    "    \n",
    "    image: jinumona/ipgeolocation-frontend:v2\n",
    "    container_name: geolocation-frontend\n",
    "    restart: always\n",
    "    networks:\n",
    "      - geolocation-net\n",
    "    ports:\n",
    "      - \"80:8080\"\n",
    "    environment:\n",
    "      - API_SERVER=geolocation-api\n",
    "      - API_SERVER_PORT=8080\n",
    "      - APP_PORT=8080\n",
    "\n",
    "networks:\n",
    "  geolocation-net:"
   ]
  },
  {
   "cell_type": "code",
   "execution_count": null,
   "id": "7acc62e4",
   "metadata": {},
   "outputs": [],
   "source": [
    "myapp]$ docker-compose config\n",
    "\n",
    "name: myapp\n",
    "services:\n",
    "  backend:\n",
    "    container_name: geolocation-api\n",
    "    environment:\n",
    "      API_KEY: 6a77a7aac63e4ed69a78f5d6c8cbe0f4\n",
    "      APP_PORT: \"8080\"\n",
    "      REDIS_HOST: redis\n",
    "      REDIS_PORT: \"6379\"\n",
    "    image: jinumona/ipgeolocation-api-redis:v2\n",
    "    networks:\n",
    "      geolocation-net: null\n",
    "    ports:\n",
    "    - mode: ingress\n",
    "      target: 8080\n",
    "      published: \"81\"\n",
    "      protocol: tcp\n",
    "    restart: always\n",
    "  frontend:\n",
    "    container_name: geolocation-frontend\n",
    "    environment:\n",
    "      API_SERVER: geolocation-api\n",
    "      API_SERVER_PORT: \"8080\"\n",
    "      APP_PORT: \"8080\"\n",
    "    image: jinumona/ipgeolocation-frontend:v2\n",
    "    networks:\n",
    "      geolocation-net: null\n",
    "    ports:\n",
    "    - mode: ingress\n",
    "      target: 8080\n",
    "      published: \"80\"\n",
    "      protocol: tcp\n",
    "    restart: always\n",
    "  redis:\n",
    "    container_name: redis\n",
    "    image: redis:latest\n",
    "    networks:\n",
    "      geolocation-net: null\n",
    "    restart: always\n",
    "networks:\n",
    "  geolocation-net:\n",
    "    name: myapp_geolocation-net\n"
   ]
  },
  {
   "cell_type": "code",
   "execution_count": null,
   "id": "749e773f",
   "metadata": {},
   "outputs": [],
   "source": [
    "$ docker-compose up -d\n",
    "\n",
    "[+] Running 7/7\n",
    " ⠿ redis Pulled                                                                                                                                       5.8s\n",
    "   ⠿ 42c077c10790 Already exists                                                                                                                      0.0s\n",
    "   ⠿ a300d83d65f9 Pull complete                                                                                                                       1.0s\n",
    "   ⠿ ebdc3afaab5c Pull complete                                                                                                                       1.1s\n",
    "   ⠿ 6ce178c713e4 Pull complete                                                                                                                       1.7s\n",
    "   ⠿ 949f9d8f429f Pull complete                                                                                                                       1.7s\n",
    "   ⠿ 4076be5e5074 Pull complete                                                                                                                       1.8s\n",
    "[+] Running 4/4\n",
    " ⠿ Network myapp_geolocation-net   Created                                                                                                            0.0s\n",
    " ⠿ Container geolocation-frontend  Started                                                                                                            2.1s\n",
    " ⠿ Container redis                 Started                                                                                                            1.6s\n",
    " ⠿ Container geolocation-api       Started                                                                                                            2.1s"
   ]
  },
  {
   "cell_type": "code",
   "execution_count": null,
   "id": "d0f653cd",
   "metadata": {},
   "outputs": [],
   "source": [
    "$ docker-compose down -v\n",
    "\n",
    "[+] Running 4/4\n",
    " ⠿ Container geolocation-api       Removed                                                                                                            0.6s\n",
    " ⠿ Container geolocation-frontend  Removed                                                                                                            0.7s\n",
    " ⠿ Container redis                 Removed                                                                                                            0.5s\n",
    " ⠿ Network myapp_geolocation-net   Removed                                                                                                            0.0s"
   ]
  },
  {
   "cell_type": "code",
   "execution_count": null,
   "id": "a80fd026",
   "metadata": {},
   "outputs": [],
   "source": [
    "$ docker-compose ps\n",
    "\n",
    "NAME                   COMMAND                  SERVICE             STATUS              PORTS\n",
    "geolocation-api        \"python3 app.py\"         backend             running             8080/tcp\n",
    "geolocation-frontend   \"python3 app.py\"         frontend            running             0.0.0.0:80->8080/tcp, :::80->8080/tcp\n",
    "redis                  \"docker-entrypoint.s…\"   redis               running             6379/tcp\n"
   ]
  },
  {
   "cell_type": "code",
   "execution_count": null,
   "id": "fbcedbf2",
   "metadata": {},
   "outputs": [],
   "source": [
    "http://ec2-52-66-203-92.ap-south-1.compute.amazonaws.com/ip/8.8.8.8"
   ]
  },
  {
   "cell_type": "code",
   "execution_count": null,
   "id": "18b6667e",
   "metadata": {},
   "outputs": [],
   "source": [
    "$ curl http://ec2-52-66-203-92.ap-south-1.compute.amazonaws.com:81/ip/8.8.8.8\n",
    "        \n",
    "{\n",
    "  \"apiServer\": \"98a226c589a6\", \n",
    "  \"cached\": \"True\", \n",
    "  \"calling_code\": \"+1\", \n",
    "  \"city\": \"Mountain View\", \n",
    "  \"connection_type\": \"\", \n",
    "  \"continent_code\": \"NA\", \n",
    "  \"continent_name\": \"North America\", \n",
    "  \"country_capital\": \"Washington, D.C.\", \n",
    "  \"country_code2\": \"US\", \n",
    "  \"country_code3\": \"USA\", \n",
    "  \"country_flag\": \"https://ipgeolocation.io/static/flags/us_64.png\", \n",
    "  \"country_name\": \"United States\", \n",
    "  \"country_tld\": \".us\", \n",
    "  \"currency\": {\n",
    "    \"code\": \"USD\", \n",
    "    \"name\": \"US Dollar\", \n",
    "    \"symbol\": \"$\"\n",
    "  }, \n",
    "  \"district\": \"\", \n",
    "  \"geoname_id\": \"6301403\", \n",
    "  \"ip\": \"8.8.8.8\", \n",
    "  \"is_eu\": false, \n",
    "  \"isp\": \"Google LLC\", \n",
    "  \"languages\": \"en-US,es-US,haw,fr\", \n",
    "  \"latitude\": \"37.42240\", \n",
    "  \"longitude\": \"-122.08421\", \n",
    "  \"organization\": \"Google LLC\", \n",
    "  \"state_prov\": \"California\", \n",
    "  \"time_zone\": {\n",
    "    \"current_time\": \"2022-06-21 06:46:20.762-0700\", \n",
    "    \"current_time_unix\": 1655819180.762, \n",
    "    \"dst_savings\": 1, \n",
    "    \"is_dst\": true, \n",
    "    \"name\": \"America/Los_Angeles\", \n",
    "    \"offset\": -8\n",
    "  }, \n",
    "  \"zipcode\": \"94043-1351\"\n",
    "}"
   ]
  },
  {
   "cell_type": "markdown",
   "id": "0a3a9106",
   "metadata": {},
   "source": [
    "## Amazon ECR\n",
    "Amazon Elastic Container Registry"
   ]
  },
  {
   "cell_type": "code",
   "execution_count": null,
   "id": "e7372a7f",
   "metadata": {},
   "outputs": [],
   "source": [
    "https://docs.aws.amazon.com/AmazonECR/latest/public/getting-started-cli.html"
   ]
  },
  {
   "cell_type": "markdown",
   "id": "92c11943",
   "metadata": {},
   "source": [
    "##### Creating container"
   ]
  },
  {
   "cell_type": "code",
   "execution_count": null,
   "id": "0f3cf6d7",
   "metadata": {},
   "outputs": [],
   "source": [
    "$ docker container  run -p 80:80 -d --name myapp httpd:alpine\n",
    "Unable to find image 'httpd:alpine' locally\n",
    "alpine: Pulling from library/httpd\n",
    "2408cc74d12b: Pull complete \n",
    "473fdc809735: Pull complete \n",
    "25ecdd5e0572: Pull complete \n",
    "0438888bc4bf: Pull complete \n",
    "82f8d2440449: Pull complete \n",
    "a53853a13824: Pull complete \n",
    "Digest: sha256:f1225de544c16469ca7e5874ebcaa9aeb734db6e52facf11e9d74e039ffb679a\n",
    "Status: Downloaded newer image for httpd:alpine\n",
    "ddcd0388923743d224e143bbddc16ef6188d53394d48495e5cf90e15755cecab\n",
    "\n",
    "\n",
    "$ docker container ls -a\n",
    "\n",
    "CONTAINER ID   IMAGE          COMMAND              CREATED         STATUS         PORTS                               NAMES\n",
    "ddcd03889237   httpd:alpine   \"httpd-foreground\"   8 seconds ago   Up 7 seconds   0.0.0.0:80->80/tcp, :::80->80/tcp   myapp\n",
    "\n",
    "                    $ docker container exec -it myapp /bin/sh\n",
    "\n",
    "/usr/local/apache2 # \n",
    "/usr/local/apache2/htdocs # cat index.html \n",
    "<center><h1>My ECR Site-Jinu</h1></center>"
   ]
  },
  {
   "cell_type": "markdown",
   "id": "7680e27e",
   "metadata": {},
   "source": [
    "##### Making Image using commit"
   ]
  },
  {
   "cell_type": "code",
   "execution_count": null,
   "id": "ef1ce203",
   "metadata": {},
   "outputs": [],
   "source": [
    "$ docker commit myapp myapp:latest\n",
    "\n",
    "\n",
    "    \n",
    "$ docker image ls\n",
    "REPOSITORY   TAG       IMAGE ID       CREATED         SIZE\n",
    "myapp        latest    ffca9c33e480   5 seconds ago   54.9MB\n",
    "httpd        alpine    148b7e25daf6   7 days ago      54.9MB\n"
   ]
  },
  {
   "cell_type": "markdown",
   "id": "340e3aea",
   "metadata": {},
   "source": [
    "##### Create a public repository"
   ]
  },
  {
   "cell_type": "code",
   "execution_count": null,
   "id": "2a118515",
   "metadata": {},
   "outputs": [],
   "source": [
    "via front end"
   ]
  },
  {
   "cell_type": "markdown",
   "id": "06a6f488",
   "metadata": {},
   "source": [
    "##### Authenticate to a public registry"
   ]
  },
  {
   "cell_type": "code",
   "execution_count": null,
   "id": "096c435c",
   "metadata": {},
   "outputs": [],
   "source": [
    "\n",
    "[ec2-user@ip-172-31-34-86 ~]$ aws ecr-public get-login-password --region us-east-1 | docker login --username AWS --password-stdin public.ecr.aws/o8l7k4k1\n",
    "WARNING! Your password will be stored unencrypted in /home/ec2-user/.docker/config.json.\n",
    "Configure a credential helper to remove this warning. See\n",
    "https://docs.docker.com/engine/reference/commandline/login/#credentials-store\n",
    "\n",
    "Login Succeeded\n",
    "\n"
   ]
  },
  {
   "cell_type": "code",
   "execution_count": null,
   "id": "7b1f77e8",
   "metadata": {},
   "outputs": [],
   "source": [
    "$ docker tag myapp:latest public.ecr.aws/o8l7k4k1/myapp:latest\n",
    "        \n",
    "$ docker image ls\n",
    "REPOSITORY                      TAG       IMAGE ID       CREATED          SIZE\n",
    "myapp                           latest    ffca9c33e480   38 minutes ago   54.9MB\n",
    "public.ecr.aws/o8l7k4k1/myapp   latest    ffca9c33e480   38 minutes ago   54.9MB\n"
   ]
  },
  {
   "cell_type": "code",
   "execution_count": null,
   "id": "a353a46b",
   "metadata": {},
   "outputs": [],
   "source": [
    "$ docker push public.ecr.aws/o8l7k4k1/myapp:latest\n",
    "    \n",
    "The push refers to repository [public.ecr.aws/o8l7k4k1/myapp]\n",
    "9cdb10969c85: Pushed \n",
    "017c4576d3c0: Pushed \n",
    "975fcfa21dfa: Pushed \n",
    "6caeeb2cb1a8: Pushed \n",
    "ea96470c3118: Pushed \n",
    "6373f18a4f66: Pushed \n",
    "24302eb7d908: Pushed \n",
    "latest: digest: sha256:6a63e0f9c0667fe3f91802286b3c8abf3c9507c131e14208fc641a14b093b09c size: 1779"
   ]
  },
  {
   "cell_type": "code",
   "execution_count": null,
   "id": "fdfbb5fb",
   "metadata": {},
   "outputs": [],
   "source": [
    "$ docker container  run -p 80:80 -d --name myapp public.ecr.aws/o8l7k4k1/myapp:latest\n",
    "        \n",
    "Unable to find image 'public.ecr.aws/o8l7k4k1/myapp:latest' locally\n",
    "latest: Pulling from o8l7k4k1/myapp\n",
    "2408cc74d12b: Pull complete \n",
    "473fdc809735: Pull complete \n",
    "25ecdd5e0572: Pull complete \n",
    "0438888bc4bf: Pull complete \n",
    "82f8d2440449: Pull complete \n",
    "a53853a13824: Pull complete \n",
    "95137c8c0239: Pull complete \n",
    "Digest: sha256:6a63e0f9c0667fe3f91802286b3c8abf3c9507c131e14208fc641a14b093b09c\n",
    "Status: Downloaded newer image for public.ecr.aws/o8l7k4k1/myapp:latest\n",
    "74b3469bcf2a0221153abb4e76e702a24311bb8888fd00cf0b72225f6320f9df\n",
    "       \n",
    "$ docker container ls -a\n",
    "CONTAINER ID   IMAGE                                  COMMAND              CREATED         STATUS         PORTS                               NAMES\n",
    "74b3469bcf2a   public.ecr.aws/o8l7k4k1/myapp:latest   \"httpd-foreground\"   3 minutes ago   Up 3 minutes   0.0.0.0:80->80/tcp, :::80->80/tcp   myapp"
   ]
  },
  {
   "cell_type": "markdown",
   "id": "3be84675",
   "metadata": {},
   "source": [
    "## Docker swarm"
   ]
  },
  {
   "cell_type": "code",
   "execution_count": null,
   "id": "3c8cbc4c",
   "metadata": {},
   "outputs": [],
   "source": [
    "$ docker swarm init\n",
    "\n",
    "Swarm initialized: current node (ljcwwjcjqtivduc2hppuaalkq) is now a manager.\n",
    "\n",
    "To add a worker to this swarm, run the following command:\n",
    "\n",
    "    docker swarm join --token SWMTKN-1-5jdi0g76inm9591mtnolbk6ou090zyf0rneljh21wy39jzmkw6-2144o7v8stayjvhhqgh3d0f3s 172.31.34.86:2377\n",
    "\n",
    "To add a manager to this swarm, run 'docker swarm join-token manager' and follow the instructions."
   ]
  },
  {
   "cell_type": "code",
   "execution_count": null,
   "id": "db80437c",
   "metadata": {},
   "outputs": [],
   "source": [
    "$ docker swarm join-token worker\n",
    "\n",
    "To add a worker to this swarm, run the following command:\n",
    "\n",
    "    docker swarm join --token SWMTKN-1-5jdi0g76inm9591mtnolbk6ou090zyf0rneljh21wy39jzmkw6-2144o7v8stayjvhhqgh3d0f3s 172.31.34.86:2377"
   ]
  },
  {
   "cell_type": "code",
   "execution_count": null,
   "id": "9627b3ae",
   "metadata": {},
   "outputs": [],
   "source": [
    "$ docker swarm join-token manager\n",
    "\n",
    "To add a manager to this swarm, run the following command:\n",
    "\n",
    "    docker swarm join --token SWMTKN-1-5jdi0g76inm9591mtnolbk6ou090zyf0rneljh21wy39jzmkw6-9vzb60wjiy5ghd91j5xsyqfm4 172.31.34.86:2377\n"
   ]
  },
  {
   "cell_type": "code",
   "execution_count": null,
   "id": "34b2d658",
   "metadata": {},
   "outputs": [],
   "source": [
    "$ docker node ls\n",
    "\n",
    "ID                            HOSTNAME                                      STATUS    AVAILABILITY   MANAGER STATUS   ENGINE VERSION\n",
    "ljcwwjcjqtivduc2hppuaalkq *   ip-172-31-34-86.ap-south-1.compute.internal   Ready     Active         Leader           20.10.13\n"
   ]
  },
  {
   "cell_type": "markdown",
   "id": "6f52531b",
   "metadata": {},
   "source": [
    "### On worker1 and worker2"
   ]
  },
  {
   "cell_type": "code",
   "execution_count": null,
   "id": "632dd0d9",
   "metadata": {},
   "outputs": [],
   "source": [
    "$ docker swarm join --token SWMTKN-1-5jdi0g76inm9591mtnolbk6ou090zyf0rneljh21wy39jzmkw6-2144o7v8stayjvhhqgh3d0f3s 172.31.34.86:2377\n",
    "    \n",
    "This node joined a swarm as a worker."
   ]
  },
  {
   "cell_type": "markdown",
   "id": "dae022b3",
   "metadata": {},
   "source": [
    "##### On manager"
   ]
  },
  {
   "cell_type": "code",
   "execution_count": null,
   "id": "e2abe0a9",
   "metadata": {},
   "outputs": [],
   "source": [
    "$ docker node ls\n",
    "\n",
    "ID                            HOSTNAME                                       STATUS    AVAILABILITY   MANAGER STATUS   ENGINE VERSION\n",
    "ljcwwjcjqtivduc2hppuaalkq *   ip-172-31-34-86.ap-south-1.compute.internal    Ready     Active         Leader           20.10.13\n",
    "dupmpbug9qx4fgmzrdybbv5rd     ip-172-31-37-234.ap-south-1.compute.internal   Ready     Active                          20.10.13\n",
    "we9w3fhr9djrt5p8p07hmyq5i     ip-172-31-47-139.ap-south-1.compute.internal   Ready     Active                          20.10.13\n"
   ]
  },
  {
   "cell_type": "markdown",
   "id": "b6523385",
   "metadata": {},
   "source": [
    "##### There is internal loadbalancing in swarm"
   ]
  },
  {
   "cell_type": "markdown",
   "id": "9fb70960",
   "metadata": {},
   "source": [
    "### Service Creation"
   ]
  },
  {
   "cell_type": "code",
   "execution_count": null,
   "id": "99282d10",
   "metadata": {},
   "outputs": [],
   "source": [
    "$ docker service create \\\n",
    "--name web \\\n",
    "--replicas 2 \\\n",
    "-p 80:80 \\\n",
    "jinumona/rolling-hello:green"
   ]
  },
  {
   "cell_type": "code",
   "execution_count": null,
   "id": "bc585af7",
   "metadata": {},
   "outputs": [],
   "source": [
    "$ docker container ls -a\n",
    "CONTAINER ID   IMAGE                          COMMAND                  CREATED          STATUS          PORTS     NAMES\n",
    "030f4ef28c5a   jinumona/rolling-hello:green   \"/docker-entrypoint.…\"   24 seconds ago   Up 23 seconds             web.1.hjrggbbf1g8blaofhgpup4tjt\n",
    "\n",
    "$ docker service ls\n",
    "ID             NAME      MODE         REPLICAS   IMAGE                          PORTS\n",
    "jqhbf9qq0o9n   web       replicated   2/2        jinumona/rolling-hello:green   *:80->80/tcp\n"
   ]
  },
  {
   "cell_type": "markdown",
   "id": "5f8fc53d",
   "metadata": {},
   "source": [
    "##### Manager acting as worker"
   ]
  },
  {
   "cell_type": "code",
   "execution_count": null,
   "id": "56af5f2e",
   "metadata": {},
   "outputs": [],
   "source": [
    "manager\n",
    "$ hostname\n",
    "ip-172-31-34-86.ap-south-1.compute.internal\n",
    "\n",
    "$ docker service ps web\n",
    "ID             NAME      IMAGE                          NODE                                           DESIRED STATE   CURRENT STATE           ERROR     PORTS\n",
    "hjrggbbf1g8b   web.1     jinumona/rolling-hello:green   ip-172-31-34-86.ap-south-1.compute.internal    Running         Running 2 minutes ago             \n",
    "v9cstwya4nx8   web.2     jinumona/rolling-hello:green   ip-172-31-37-234.ap-south-1.compute.internal   Running         Running 2 minutes ago "
   ]
  },
  {
   "cell_type": "code",
   "execution_count": null,
   "id": "7d88fb49",
   "metadata": {},
   "outputs": [],
   "source": [
    "#Eventhough worker2 has no container the site will be shown on worker2\n",
    "\n",
    "at worker2\n",
    "$ netstat -ntlp|grep 80\n",
    "tcp6       0      0 :::80                   :::*                    LISTEN      3487/dockerd "
   ]
  },
  {
   "cell_type": "markdown",
   "id": "4feb347f",
   "metadata": {},
   "source": [
    "### service update for swarm"
   ]
  },
  {
   "cell_type": "code",
   "execution_count": null,
   "id": "7afd3853",
   "metadata": {},
   "outputs": [],
   "source": [
    "$ docker service update --replicas 6 web\n",
    "\n",
    "web\n",
    "overall progress: 6 out of 6 tasks \n",
    "1/6: running   [==================================================>] \n",
    "2/6: running   [==================================================>] \n",
    "3/6: running   [==================================================>] \n",
    "4/6: running   [==================================================>] \n",
    "5/6: running   [==================================================>] \n",
    "6/6: running   [==================================================>] \n",
    "verify: Service converged \n"
   ]
  },
  {
   "cell_type": "code",
   "execution_count": null,
   "id": "0ebf6e29",
   "metadata": {},
   "outputs": [],
   "source": [
    "# at worker2\n",
    "\n",
    "[root@ip-172-31-37-234 ec2-user]# docker container ls\n",
    "CONTAINER ID   IMAGE                          COMMAND                  CREATED          STATUS          PORTS     NAMES\n",
    "dc1f785eb45a   jinumona/rolling-hello:green   \"/docker-entrypoint.…\"   2 minutes ago    Up 2 minutes              web.5.zahjr53fb95ih5g6hlor2qtww\n",
    "ed3fe33ed29f   jinumona/rolling-hello:green   \"/docker-entrypoint.…\"   13 minutes ago   Up 13 minutes             web.2.v9cstwya4nx82aspt32hky7yw\n"
   ]
  },
  {
   "cell_type": "code",
   "execution_count": null,
   "id": "0178feba",
   "metadata": {},
   "outputs": [],
   "source": [
    "[root@ip-172-31-34-86 ec2-user]$ docker service ps web\n",
    "ID             NAME      IMAGE                          NODE                                           DESIRED STATE   CURRENT STATE            ERROR     PORTS\n",
    "hjrggbbf1g8b   web.1     jinumona/rolling-hello:green   ip-172-31-34-86.ap-south-1.compute.internal    Running         Running 14 minutes ago             \n",
    "v9cstwya4nx8   web.2     jinumona/rolling-hello:green   ip-172-31-37-234.ap-south-1.compute.internal   Running         Running 14 minutes ago             \n",
    "t7556kzm0odz   web.3     jinumona/rolling-hello:green   ip-172-31-47-139.ap-south-1.compute.internal   Running         Running 2 minutes ago              \n",
    "gv3hvtt5xg29   web.4     jinumona/rolling-hello:green   ip-172-31-47-139.ap-south-1.compute.internal   Running         Running 2 minutes ago              \n",
    "zahjr53fb95i   web.5     jinumona/rolling-hello:green   ip-172-31-37-234.ap-south-1.compute.internal   Running         Running 2 minutes ago              \n",
    "zgq19l4d0jjn   web.6     jinumona/rolling-hello:green   ip-172-31-34-86.ap-south-1.compute.internal    Running         Running 2 minutes ago"
   ]
  },
  {
   "cell_type": "markdown",
   "id": "b4ab9b82",
   "metadata": {},
   "source": [
    "#### self recreating containers"
   ]
  },
  {
   "cell_type": "code",
   "execution_count": null,
   "id": "3dafb58d",
   "metadata": {},
   "outputs": [],
   "source": [
    "\n",
    "$ docker container ls\n",
    "CONTAINER ID   IMAGE                          COMMAND                  CREATED          STATUS          PORTS     NAMES\n",
    "dc1f785eb45a   jinumona/rolling-hello:green   \"/docker-entrypoint.…\"   2 minutes ago    Up 2 minutes              web.5.zahjr53fb95ih5g6hlor2qtww\n",
    "ed3fe33ed29f   jinumona/rolling-hello:green   \"/docker-entrypoint.…\"   13 minutes ago   Up 13 minutes             web.2.v9cstwya4nx82aspt32hky7yw\n",
    "[root@ip-172-31-37-234 ec2-user]# docker container ls -a\n",
    "CONTAINER ID   IMAGE                          COMMAND                  CREATED          STATUS          PORTS     NAMES\n",
    "dc1f785eb45a   jinumona/rolling-hello:green   \"/docker-entrypoint.…\"   5 minutes ago    Up 5 minutes              web.5.zahjr53fb95ih5g6hlor2qtww\n",
    "ed3fe33ed29f   jinumona/rolling-hello:green   \"/docker-entrypoint.…\"   17 minutes ago   Up 17 minutes             web.2.v9cstwya4nx82aspt32hky7yw\n",
    "[root@ip-172-31-37-234 ec2-user]# docker stop dc1f785eb45a ed3fe33ed29f\n",
    "dc1f785eb45a\n",
    "ed3fe33ed29f\n",
    "[root@ip-172-31-37-234 ec2-user]# docker rm  dc1f785eb45a ed3fe33ed29f\n",
    "dc1f785eb45a\n",
    "ed3fe33ed29f\n",
    "[root@ip-172-31-37-234 ec2-user]# docker container ls -a\n",
    "CONTAINER ID   IMAGE                          COMMAND                  CREATED          STATUS         PORTS     NAMES\n",
    "1ca2a66f9c2c   jinumona/rolling-hello:green   \"/docker-entrypoint.…\"   11 seconds ago   Up 5 seconds             web.2.kefh3quyvkyisdt5c99t1ky46\n",
    "b21641cbb249   jinumona/rolling-hello:green   \"/docker-entrypoint.…\"   11 seconds ago   Up 5 seconds             web.5.vhqx6uw06x77lxwguirji16e"
   ]
  },
  {
   "cell_type": "markdown",
   "id": "6cda7e80",
   "metadata": {},
   "source": [
    "##### Updating image"
   ]
  },
  {
   "cell_type": "code",
   "execution_count": null,
   "id": "245559ee",
   "metadata": {},
   "outputs": [],
   "source": [
    "$ docker service update --image jinumona/rolling-hello:yellow web"
   ]
  },
  {
   "cell_type": "code",
   "execution_count": null,
   "id": "4d24fe8f",
   "metadata": {},
   "outputs": [],
   "source": [
    "# New containers getting created\n",
    "\n",
    "$ docker service update --image jinumona/rolling-hello:yellow web\n",
    "    \n",
    "web\n",
    "overall progress: 6 out of 6 tasks \n",
    "1/6: running   [==================================================>] \n",
    "2/6: running   [==================================================>] \n",
    "3/6: running   [==================================================>] \n",
    "4/6: running   [==================================================>] \n",
    "5/6: running   [==================================================>] \n",
    "6/6: running   [==================================================>] \n",
    "verify: Service converged \n",
    "[root@ip-172-31-34-86 ec2-user]# docker service ps web\n",
    "ID             NAME        IMAGE                           NODE                                           DESIRED STATE   CURRENT STATE             ERROR                       PORTS\n",
    "ttpyrj5j7i8r   web.1       jinumona/rolling-hello:yellow   ip-172-31-34-86.ap-south-1.compute.internal    Running         Running 38 seconds ago                                \n",
    "hjrggbbf1g8b    \\_ web.1   jinumona/rolling-hello:green    ip-172-31-34-86.ap-south-1.compute.internal    Shutdown        Shutdown 39 seconds ago                               \n",
    "h7d1h4556eb4   web.2       jinumona/rolling-hello:yellow   ip-172-31-37-234.ap-south-1.compute.internal   Running         Running 32 seconds ago                                \n",
    "kefh3quyvkyi    \\_ web.2   jinumona/rolling-hello:green    ip-172-31-37-234.ap-south-1.compute.internal   Shutdown        Shutdown 34 seconds ago                               \n",
    "v9cstwya4nx8    \\_ web.2   jinumona/rolling-hello:green    ip-172-31-37-234.ap-south-1.compute.internal   Shutdown        Failed 3 minutes ago      \"task: non-zero exit (1)\"   \n",
    "qsrfu2fay1yi   web.3       jinumona/rolling-hello:yellow   ip-172-31-47-139.ap-south-1.compute.internal   Running         Running 28 seconds ago                                \n",
    "t7556kzm0odz    \\_ web.3   jinumona/rolling-hello:green    ip-172-31-47-139.ap-south-1.compute.internal   Shutdown        Shutdown 29 seconds ago                               \n",
    "q7za42m50ltb   web.4       jinumona/rolling-hello:yellow   ip-172-31-47-139.ap-south-1.compute.internal   Running         Running 42 seconds ago                                \n",
    "gv3hvtt5xg29    \\_ web.4   jinumona/rolling-hello:green    ip-172-31-47-139.ap-south-1.compute.internal   Shutdown        Shutdown 44 seconds ago                               \n",
    "zxn1ra9750cu   web.5       jinumona/rolling-hello:yellow   ip-172-31-37-234.ap-south-1.compute.internal   Running         Running 23 seconds ago                                \n",
    "vhqx6uw06x77    \\_ web.5   jinumona/rolling-hello:green    ip-172-31-37-234.ap-south-1.compute.internal   Shutdown        Shutdown 24 seconds ago                               \n",
    "zahjr53fb95i    \\_ web.5   jinumona/rolling-hello:green    ip-172-31-37-234.ap-south-1.compute.internal   Shutdown        Failed 3 minutes ago      \"task: non-zero exit (1)\"   \n",
    "6d4pvqqnut34   web.6       jinumona/rolling-hello:yellow   ip-172-31-34-86.ap-south-1.compute.internal    Running         Running 48 seconds ago                                \n",
    "zgq19l4d0jjn    \\_ web.6   jinumona/rolling-hello:green    ip-172-31-34-86.ap-south-1.compute.internal    Shutdown        Shutdown 49 seconds ago"
   ]
  },
  {
   "cell_type": "code",
   "execution_count": null,
   "id": "5dc2d0a7",
   "metadata": {},
   "outputs": [],
   "source": [
    "$ docker service update --image jinumona/rolling-hello:blue web"
   ]
  },
  {
   "cell_type": "code",
   "execution_count": null,
   "id": "a79238cf",
   "metadata": {},
   "outputs": [],
   "source": [
    "$ docker service rollback web"
   ]
  },
  {
   "cell_type": "code",
   "execution_count": null,
   "id": "564b9bbd",
   "metadata": {},
   "outputs": [],
   "source": [
    "$ docker service rm web"
   ]
  }
 ],
 "metadata": {
  "kernelspec": {
   "display_name": "Python 3 (ipykernel)",
   "language": "python",
   "name": "python3"
  },
  "language_info": {
   "codemirror_mode": {
    "name": "ipython",
    "version": 3
   },
   "file_extension": ".py",
   "mimetype": "text/x-python",
   "name": "python",
   "nbconvert_exporter": "python",
   "pygments_lexer": "ipython3",
   "version": "3.10.4"
  }
 },
 "nbformat": 4,
 "nbformat_minor": 5
}
